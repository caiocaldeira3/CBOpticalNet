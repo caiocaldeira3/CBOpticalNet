{
 "cells": [
  {
   "cell_type": "code",
   "execution_count": null,
   "id": "9c1a214f",
   "metadata": {},
   "outputs": [],
   "source": [
    "import matplotlib.pyplot as plt\n",
    "import numpy as np\n",
    "\n",
    "from importlib import reload\n",
    "\n",
    "import DataReader as DataReader\n",
    "import Plotter as Plotter"
   ]
  },
  {
   "cell_type": "code",
   "execution_count": null,
   "id": "24874ce2",
   "metadata": {},
   "outputs": [],
   "source": [
    "reload(DataReader)\n",
    "reload(Plotter)"
   ]
  },
  {
   "cell_type": "code",
   "execution_count": null,
   "id": "7880a545",
   "metadata": {},
   "outputs": [],
   "source": [
    "num_nodes = [ 128, 256, 512, 1024 ]\n",
    "datasets = [ \"tor\" ]\n",
    "switch_sizes = [ 16, 32, 64, 128, 256, -1 ]"
   ]
  },
  {
   "cell_type": "code",
   "execution_count": null,
   "id": "4dee5bb9",
   "metadata": {},
   "outputs": [],
   "source": [
    "tor_data = []"
   ]
  },
  {
   "cell_type": "code",
   "execution_count": null,
   "id": "367dab0c",
   "metadata": {},
   "outputs": [],
   "source": [
    "for dataset in datasets:\n",
    "    for num_node in num_nodes:\n",
    "        for switch_size in switch_sizes:\n",
    "            if switch_size == -1:\n",
    "                switch_size = 2 * num_node\n",
    "\n",
    "            elif switch_size <= 16 and num_node >= 256:\n",
    "                continue\n",
    "\n",
    "            elif switch_size <= 64 and num_node >= 512:\n",
    "                continue\n",
    "            \n",
    "            elif switch_size == 256 and num_node == 128:\n",
    "                continue\n",
    "\n",
    "            tor_data.append(DataReader.DataReader(\"tor\", \"cbOptNet\", num_node, switch_size, 30))\n",
    "            \n",
    "tor_data = np.array(tor_data)"
   ]
  },
  {
   "cell_type": "code",
   "execution_count": null,
   "id": "ea023d51",
   "metadata": {},
   "outputs": [],
   "source": [
    "print(tor_data)"
   ]
  },
  {
   "cell_type": "code",
   "execution_count": null,
   "id": "770b9fa0",
   "metadata": {},
   "outputs": [],
   "source": [
    "slc = slice(0, None)"
   ]
  },
  {
   "cell_type": "code",
   "execution_count": null,
   "id": "f49c5a61",
   "metadata": {},
   "outputs": [],
   "source": [
    "slc = [ 0, 1, 4, 5, 10, 13, 15 ]"
   ]
  },
  {
   "cell_type": "code",
   "execution_count": null,
   "id": "475550a9",
   "metadata": {},
   "outputs": [],
   "source": [
    "print(tor_data[slc])"
   ]
  },
  {
   "cell_type": "code",
   "execution_count": null,
   "id": "4a4c3fb6",
   "metadata": {},
   "outputs": [],
   "source": [
    "fig, ax = plt.subplots(figsize=(8, 4))\n",
    "ax.set_title(\"CDF Switches ativos por rounds\")\n",
    "ax.set_xlabel(\"Rounds x 10^3\")\n",
    "ax.set_ylabel(\"Porcentagem dos switches ativos\")\n",
    "\n",
    "for data in tor_data[slc]:\n",
    "    Plotter.Plotter.cdf_active_switches(data.cdf_active_switches(), ax)\n",
    "\n",
    "ax.legend([ f\"{data.num_nodes}|{data.num_switches} nodes|switches\" for data in tor_data[slc] ], loc=\"best\")"
   ]
  },
  {
   "cell_type": "code",
   "execution_count": null,
   "id": "77d6bd0d",
   "metadata": {},
   "outputs": [],
   "source": [
    "fig, ax = plt.subplots(figsize=(8, 4))\n",
    "ax.set_title(\"CDF % portas ativas por Switch\")\n",
    "ax.set_xlabel(\"Porcentagem de portas ativas\")\n",
    "ax.set_ylabel(\"Porcentagem dos switches\")\n",
    "\n",
    "for data in tor_data[slc]:\n",
    "    Plotter.Plotter.cdf_active_switches(data.cdf_switch_active_ports(), ax)\n",
    "    \n",
    "ax.legend([ f\"{data.num_nodes}|{data.num_switches} nodes|switches\" for data in tor_data[slc] ], loc=\"best\")"
   ]
  },
  {
   "cell_type": "code",
   "execution_count": null,
   "id": "86844857",
   "metadata": {},
   "outputs": [],
   "source": [
    "fig, ax = plt.subplots(figsize=(8, 4))\n",
    "ax.set_title(\"CDF Portas ativas por rounds\")\n",
    "ax.set_xlabel(\"Número de rounds\")\n",
    "ax.set_ylabel(\"Porcentagem das portas ativas\")\n",
    "\n",
    "for data in tor_data[slc]:\n",
    "    Plotter.Plotter.cdf_active_ports(data.cdf_active_ports(), ax)\n",
    "\n",
    "ax.legend([ f\"{data.num_nodes}|{data.num_switches} nodes|switches\" for data in tor_data[slc] ], loc=\"best\")"
   ]
  },
  {
   "cell_type": "code",
   "execution_count": null,
   "id": "8cdbcb4f",
   "metadata": {},
   "outputs": [],
   "source": [
    "fig, ax = plt.subplots(figsize=(8, 4))\n",
    "ax.set_title(\"CDF roteamentos por nó\")\n",
    "ax.set_xlabel(\"Roteamentos x 10^3\")\n",
    "ax.set_ylabel(\"Porcentagem dos nós\")\n",
    "\n",
    "for data in tor_data[slc]:\n",
    "    Plotter.Plotter.cdf_routings(data.cdf_node_routings(), ax)\n",
    "\n",
    "ax.legend([ f\"{data.num_nodes}|{data.num_switches} nodes|switches\" for data in tor_data[slc] ], loc=\"best\")"
   ]
  },
  {
   "cell_type": "code",
   "execution_count": null,
   "id": "b96859eb",
   "metadata": {},
   "outputs": [],
   "source": [
    "fig, ax = plt.subplots(figsize=(8, 4))\n",
    "ax.set_title(\"CDF alterações por nó\")\n",
    "ax.set_xlabel(\"Alterações\")\n",
    "ax.set_ylabel(\"Porcentagem dos nós\")\n",
    "\n",
    "for data in tor_data[slc]:\n",
    "    Plotter.Plotter.cdf_alterations(data.cdf_node_alterations(), ax)\n",
    "\n",
    "ax.legend([ f\"{data.num_nodes}|{data.num_switches} nodes|switches\" for data in tor_data[slc] ], loc=\"best\")"
   ]
  },
  {
   "cell_type": "code",
   "execution_count": null,
   "id": "119e97a5",
   "metadata": {},
   "outputs": [],
   "source": [
    "fig, ax = plt.subplots(figsize=(8, 4))\n",
    "ax.set_title(\"CDF roteamentos por switch\")\n",
    "ax.set_xlabel(\"Roteamentos x 10^3\")\n",
    "ax.set_ylabel(\"Porcentagem dos switches\")\n",
    "\n",
    "for data in tor_data[slc]:\n",
    "    Plotter.Plotter.cdf_routings(data.cdf_switch_routings(), ax)\n",
    "\n",
    "ax.legend([ f\"{data.num_nodes}|{data.num_switches} nodes|switches\" for data in tor_data[slc] ], loc=\"best\")"
   ]
  },
  {
   "cell_type": "code",
   "execution_count": null,
   "id": "56efc8d9",
   "metadata": {},
   "outputs": [],
   "source": [
    "fig, ax = plt.subplots(figsize=(8, 4))\n",
    "ax.set_title(\"CDF alterações por switch\")\n",
    "ax.set_xlabel(\"Alterações\")\n",
    "ax.set_ylabel(\"Porcentagem dos switches\")\n",
    "\n",
    "for data in tor_data[slc]:\n",
    "    Plotter.Plotter.cdf_alterations(data.cdf_switch_alterations(), ax)\n",
    "\n",
    "ax.legend([ f\"{data.num_nodes}|{data.num_switches} nodes|switches\" for data in tor_data[slc] ], loc=\"best\")"
   ]
  }
 ],
 "metadata": {
  "kernelspec": {
   "display_name": "Python 3 (ipykernel)",
   "language": "python",
   "name": "python3"
  },
  "language_info": {
   "codemirror_mode": {
    "name": "ipython",
    "version": 3
   },
   "file_extension": ".py",
   "mimetype": "text/x-python",
   "name": "python",
   "nbconvert_exporter": "python",
   "pygments_lexer": "ipython3",
   "version": "3.10.0"
  }
 },
 "nbformat": 4,
 "nbformat_minor": 5
}
